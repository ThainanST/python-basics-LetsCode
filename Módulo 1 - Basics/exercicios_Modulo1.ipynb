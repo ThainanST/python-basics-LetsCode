{
  "nbformat": 4,
  "nbformat_minor": 0,
  "metadata": {
    "colab": {
      "provenance": [],
      "collapsed_sections": []
    },
    "kernelspec": {
      "name": "python3",
      "display_name": "Python 3"
    },
    "language_info": {
      "name": "python"
    }
  },
  "cells": [
    {
      "cell_type": "markdown",
      "source": [
        "# Módulo 1 - Python"
      ],
      "metadata": {
        "id": "FywGXqfKnymD"
      }
    },
    {
      "cell_type": "markdown",
      "source": [
        "##Questao 1\n",
        "Faça um programa que peça um valor monetário e diminua-o em 15%. Seu programa deve imprimir a mensagem “O novo valor é `[valor]`."
      ],
      "metadata": {
        "id": "q5TXDMnin2YM"
      }
    },
    {
      "cell_type": "code",
      "execution_count": null,
      "metadata": {
        "id": "ntAD18UCTlFa",
        "colab": {
          "base_uri": "https://localhost:8080/"
        },
        "outputId": "6324771f-ca64-4992-8931-a238785fae03"
      },
      "outputs": [
        {
          "output_type": "stream",
          "name": "stdout",
          "text": [
            "Ola! 😀 Informe o valor para desconto: 10\n",
            "“O novo valor é R$ 8.50! 😉\n"
          ]
        }
      ],
      "source": [
        "value = float( input(\"Ola! 😀 Informe o valor para desconto: \") )\n",
        "discount_value = value*(1 - 0.15)\n",
        "msg_txt = \"“O novo valor é R$ {price:.2f}! 😉\"\n",
        "print(msg_txt.format(price = discount_value))"
      ]
    },
    {
      "cell_type": "markdown",
      "source": [
        "## Questao 2\n",
        "\n",
        "Faça um programa que leia a validade das informações:\n",
        "1. Idade: entre 0 e 150;\n",
        "2. Salário: maior que 0;\n",
        "3. Sexo: M, F ou Outro;\n",
        "\n",
        "O programa deve imprimir uma mensagem de erro para cada informação \n",
        "inválida."
      ],
      "metadata": {
        "id": "qj3djUh0pI2R"
      }
    },
    {
      "cell_type": "code",
      "source": [
        "# idade\n",
        "msg_txt_age = \"Digite uma idade entre 0 e 150 anos: \"\n",
        "msg_txt_wrong_age = \"❌Ops! Idade informada nao esta dentro dos limites!\"\n",
        "msg_txt_right_age = \"✅Ok! Idade informada ({age_inf}) esta dentro dos limites!\"\n",
        "\n",
        "age = int(input(msg_txt_age))\n",
        "while age < 0 or age > 150:\n",
        "  print(msg_txt_wrong_age)\n",
        "  age = int(input(msg_txt_age))\n",
        "print(msg_txt_right_age.format(age_inf = age))\n",
        "print()\n",
        "\n",
        "# Salario\n",
        "msg_txt_wage = \"Digite um salario maior que 0: \"\n",
        "msg_txt_wrong_wage = \"❌Ops! Salario informado nao esta dentro dos limites!\"\n",
        "msg_txt_right_wage = \"✅Ok! Salario informado ({wage_inf}) esta dentro dos limites!\"\n",
        "\n",
        "wage = int(input(msg_txt_wage))\n",
        "while wage < 0:\n",
        "  print(msg_txt_wrong_wage)\n",
        "  wage = int(input(msg_txt_wage))\n",
        "print(msg_txt_right_wage.format(wage_inf = wage))\n",
        "print()\n",
        "\n",
        "# Sexo\n",
        "msg_txt_sex = \"Digite seu sexo (M/F/Outro): \"\n",
        "msg_txt_wrong_sex = \"❌Ops! Nao temos esta opcao! Tente outra vez!\"\n",
        "msg_txt_right_sex = \"✅Ok! Temos a opcao informada ({sex_inf})!\"\n",
        "opts = ['m', 'f', 'outro']\n",
        "sex = input(msg_txt_sex)\n",
        "while sex not in opts:\n",
        "  print(msg_txt_wrong_sex)\n",
        "  sex = input(msg_txt_sex)\n",
        "print(msg_txt_right_sex.format(sex_inf = sex))\n",
        "print()"
      ],
      "metadata": {
        "colab": {
          "base_uri": "https://localhost:8080/"
        },
        "id": "cKtxZxiOpRjk",
        "outputId": "6be20e9b-ee60-4d21-b918-df05934cb69a"
      },
      "execution_count": null,
      "outputs": [
        {
          "output_type": "stream",
          "name": "stdout",
          "text": [
            "Digite uma idade entre 0 e 150 anos: 160\n",
            "❌Ops! Idade informada nao esta dentro dos limites!\n",
            "Digite uma idade entre 0 e 150 anos: 20\n",
            "✅Ok! Idade informada (20) esta dentro dos limites!\n",
            "\n",
            "Digite um salario maior que 0: -15\n",
            "❌Ops! Salario informado nao esta dentro dos limites!\n",
            "Digite um salario maior que 0: 40000\n",
            "✅Ok! Salario informado (40000) esta dentro dos limites!\n",
            "\n",
            "Digite seu sexo (M/F/Outro): g\n",
            "❌Ops! Nao temos esta opcao! Tente outra vez!\n",
            "Digite seu sexo (M/F/Outro): k\n",
            "❌Ops! Nao temos esta opcao! Tente outra vez!\n",
            "Digite seu sexo (M/F/Outro): m\n",
            "✅Ok! Temos a opcao informada (m)!\n",
            "\n"
          ]
        }
      ]
    },
    {
      "cell_type": "markdown",
      "source": [
        "##Questao 3\n",
        "\n",
        "Vamos fazer um programa para veriﬁcar quem é o assassino de um crime. \n",
        "Para descobrir o assassino, a polícia faz um pequeno questionário com 5 \n",
        "perguntas onde a resposta só pode ser sim ou não:\n",
        "\n",
        "1. Mora perto da vítima?\n",
        "2. Já trabalhou com a vítima?\n",
        "3. Telefonou para a vítima?\n",
        "4. Esteve no local do crime?\n",
        "5. Devia para a vítima?\n",
        "\n",
        "Cada resposta sim dá um ponto para o suspeito. \n",
        "\n",
        "A polícia considera que os \n",
        "suspeitos com 5 pontos são os assassinos, com 4 a 3 pontos são cúmplices e \n",
        "2 pontos são apenas suspeitos, necessitando outras investigações. Valores \n",
        "iguais ou abaixo de 1 são liberados."
      ],
      "metadata": {
        "id": "xOxBus64u-dX"
      }
    },
    {
      "cell_type": "code",
      "source": [
        "def ask_question(question):\n",
        "  options = ['y', 'n']\n",
        "  answer = input(question + \" (y/n): \")\n",
        "  while answer not in options:\n",
        "    print(\"❌Ops! Nao temos esta opcao! Tente outra vez!\")\n",
        "    answer = input(question + \" (y/n): \")\n",
        "  if answer == 'y':\n",
        "    return True\n",
        "  else:\n",
        "    return False\n",
        "\n",
        "def make_quiz(questions):\n",
        "  points = 0\n",
        "  for q in questions:\n",
        "    answer = ask_question(q)\n",
        "    if answer == True:\n",
        "      points+= 1\n",
        "  return points\n",
        "\n",
        "def evaluate_suspect(points):\n",
        "  if points <= 1:\n",
        "    return \"liberado\"\n",
        "  elif points == 2:\n",
        "    return \"suspeito\"\n",
        "  elif points >=3 and points <= 4:\n",
        "    return \"cúmplice\"\n",
        "  elif points == 5:\n",
        "    return \"assasino\"\n",
        "\n",
        "def judge_suspect(questions):\n",
        "  points = make_quiz(questions)\n",
        "  evaluation = evaluate_suspect(points)\n",
        "  print(\"O status do individuo eh: {evaluation_inf}!\".format(evaluation_inf = evaluation))\n",
        "\n",
        "questions = [\"Mora perto da vítima?\", \n",
        "             \"Já trabalhou com a vítima?\", \n",
        "             \"Telefonou para a vítima?\", \n",
        "             \"Esteve no local do crime?\",\n",
        "             \"Devia para a vítima?\"]\n",
        "judge_suspect(questions)\n"
      ],
      "metadata": {
        "colab": {
          "base_uri": "https://localhost:8080/"
        },
        "id": "36M22_ixs2F2",
        "outputId": "bab6f2ab-6533-4063-b03f-a39990ac28e3"
      },
      "execution_count": null,
      "outputs": [
        {
          "output_type": "stream",
          "name": "stdout",
          "text": [
            "Mora perto da vítima? (y/n): y\n",
            "Já trabalhou com a vítima? (y/n): n\n",
            "Telefonou para a vítima? (y/n): y\n",
            "Esteve no local do crime? (y/n): n\n",
            "Devia para a vítima? (y/n): y\n",
            "O status do individuo eh: cúmplice!\n"
          ]
        }
      ]
    },
    {
      "cell_type": "markdown",
      "source": [
        "##Questao 4\n",
        "\n",
        "Faça um programa que imprima a tabuada do 9 (de 9\\*1 a 9\\*10) usando loops."
      ],
      "metadata": {
        "id": "by4y-zg4HulR"
      }
    },
    {
      "cell_type": "code",
      "source": [
        "num = int(input(\"Digite um numero para ver sua tabuada: \"))\n",
        "for e in range(1, 10, 1):\n",
        "  print(\"{num_inf} x {e_inf} = {resp}\".format(num_inf=num, e_inf=e, resp=num*e))\n",
        "\n",
        "print(\"Parabens! 😀\")"
      ],
      "metadata": {
        "colab": {
          "base_uri": "https://localhost:8080/"
        },
        "id": "ZWj8s1HFyuJi",
        "outputId": "8895930b-84d1-4324-d637-c9de0614afe7"
      },
      "execution_count": null,
      "outputs": [
        {
          "output_type": "stream",
          "name": "stdout",
          "text": [
            "Digite um numero para ver sua tabuada: 9\n",
            "9 x 1 = 9\n",
            "9 x 2 = 18\n",
            "9 x 3 = 27\n",
            "9 x 4 = 36\n",
            "9 x 5 = 45\n",
            "9 x 6 = 54\n",
            "9 x 7 = 63\n",
            "9 x 8 = 72\n",
            "9 x 9 = 81\n",
            "Parabens! 😀\n"
          ]
        }
      ]
    }
  ]
}