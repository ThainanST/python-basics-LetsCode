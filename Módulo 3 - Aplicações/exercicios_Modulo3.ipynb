{
  "nbformat": 4,
  "nbformat_minor": 0,
  "metadata": {
    "colab": {
      "provenance": [],
      "collapsed_sections": []
    },
    "kernelspec": {
      "name": "python3",
      "display_name": "Python 3"
    },
    "language_info": {
      "name": "python"
    }
  },
  "cells": [
    {
      "cell_type": "code",
      "source": [
        "import csv \n",
        "\n",
        "my_file_str = ['RA,Nome,Frequencia,Prova_1,Prova_2,Prova_3,Prova_4',\n",
        "'110201,Antonio Carlos,20,6.5,8.5,7,6',\n",
        "'110212,Ana Beatriz,20,7,7,7,8',\n",
        "'110218,Carlos Vernes,17,7,7,7,7',\n",
        "'110307,Francisco Cunha,20,9,8.5,8.5,10',\n",
        "'110275,Sandra Rosa,15,6.5,7.5,7,7',\n",
        "'110281,Juliana Arruda,18,7.5,7,7.5,8',\n",
        "'110301,Joao Galo,20,5,6.5,7,5',\n",
        "'110263,José Valente,20,10,10,10,10',\n",
        "'110271,Maria Ferreira,19,9.5,8,7,10',\n",
        "'110236,Adriana Tavares,20,8,8,8,8']\n",
        "\n",
        "my_file_list = []\n",
        "for iter in range( len( my_file_str) ):\n",
        "  line = my_file_str[iter].split(',')\n",
        "  my_file_list.append(line)\n",
        "\n",
        "\n",
        "def write_list_in_file(file_name: str, my_file_list: list):\n",
        "  with open(file_name, 'w', encoding='utf-8', newline='') as file_tobe_created:\n",
        "    writer = csv.writer(file_tobe_created)\n",
        "    writer.writerows(my_file_list)\n",
        "\n",
        "file_name = 'alunos.csv'\n",
        "write_list_in_file(file_name, my_file_list)"
      ],
      "metadata": {
        "id": "GlDEC-FhqC4g"
      },
      "execution_count": 7,
      "outputs": []
    },
    {
      "cell_type": "markdown",
      "source": [
        "# Módulo 3\n",
        "\n",
        "#Questão 1\n",
        "\n",
        "Neste exercício você deve criar um programa que abra o arquivo \n",
        "`alunos.csv` e imprima o conteúdo do arquivo linha a linha.\n",
        "\n",
        "*Note que esse é o primeiro exercício de uma sequência, então o seu código pode ser reaproveitado nos exercícios seguintes. Dito isso, a recomendação é usar a biblioteca CSV para ler o arquivo mesmo que não seja realmente necessário para esse primeiro item.*"
      ],
      "metadata": {
        "id": "xcu1iYJnpmX7"
      }
    },
    {
      "cell_type": "code",
      "execution_count": null,
      "metadata": {
        "id": "G2J9zgB-pZHg"
      },
      "outputs": [],
      "source": [
        "import csv"
      ]
    },
    {
      "cell_type": "code",
      "source": [
        "def get_list_from_csv(file_name) -> list:\n",
        "  my_file_list = []\n",
        "  with open(file_name, 'r', encoding='utf-8') as file_csv:\n",
        "    reader = csv.reader(file_csv)\n",
        "    for line in reader:\n",
        "      my_file_list.append(line)\n",
        "  return my_file_list\n",
        "\n",
        "def print_lines_of_list(my_list: list):\n",
        "  for elem in my_list:\n",
        "    print(elem)"
      ],
      "metadata": {
        "id": "0hCU81XBsbkL"
      },
      "execution_count": 11,
      "outputs": []
    },
    {
      "cell_type": "code",
      "source": [
        "file_name = 'alunos.csv'\n",
        "file_list = get_list_from_csv(file_name)\n",
        "print_lines_of_list(file_list)"
      ],
      "metadata": {
        "colab": {
          "base_uri": "https://localhost:8080/"
        },
        "id": "n-h5EreKs6-r",
        "outputId": "0af9316d-ac28-4c1a-83c9-0d2f81335684"
      },
      "execution_count": 12,
      "outputs": [
        {
          "output_type": "stream",
          "name": "stdout",
          "text": [
            "['RA', 'Nome', 'Frequencia', 'Prova_1', 'Prova_2', 'Prova_3', 'Prova_4']\n",
            "['110201', 'Antonio Carlos', '20', '6.5', '8.5', '7', '6']\n",
            "['110212', 'Ana Beatriz', '20', '7', '7', '7', '8']\n",
            "['110218', 'Carlos Vernes', '17', '7', '7', '7', '7']\n",
            "['110307', 'Francisco Cunha', '20', '9', '8.5', '8.5', '10']\n",
            "['110275', 'Sandra Rosa', '15', '6.5', '7.5', '7', '7']\n",
            "['110281', 'Juliana Arruda', '18', '7.5', '7', '7.5', '8']\n",
            "['110301', 'Joao Galo', '20', '5', '6.5', '7', '5']\n",
            "['110263', 'José Valente', '20', '10', '10', '10', '10']\n",
            "['110271', 'Maria Ferreira', '19', '9.5', '8', '7', '10']\n",
            "['110236', 'Adriana Tavares', '20', '8', '8', '8', '8']\n"
          ]
        }
      ]
    },
    {
      "cell_type": "markdown",
      "source": [
        "##Questão 2\n",
        "\n",
        "Para o segundo exercício, você deve criar um programa que realize uma  cópia do arquivo `alunos.csv`. Essa cópia deve ser um arquivo chamado `alunos_copia.csv`.\n",
        "Novamente, aqui você também não precisa utilizar a biblioteca CSV mas se usar, seu código pode ser reutilizado na próxima questão sem muitas modiﬁcações."
      ],
      "metadata": {
        "id": "3S-TdWw3tKT3"
      }
    },
    {
      "cell_type": "code",
      "source": [
        "def make_copy_csv(old_file_name: str, new_file_name: str):\n",
        "  old_file_list = get_list_from_csv(old_file_name)\n",
        "  write_list_in_file(new_file_name, old_file_list)"
      ],
      "metadata": {
        "id": "RZJXBvbmtJcI"
      },
      "execution_count": 13,
      "outputs": []
    },
    {
      "cell_type": "code",
      "source": [
        "old_file_name = 'alunos.csv'\n",
        "new_file_name = 'alunos_copia.csv'\n",
        "\n",
        "make_copy_csv(old_file_name, new_file_name)"
      ],
      "metadata": {
        "id": "qvbkhV-VvZzV"
      },
      "execution_count": 14,
      "outputs": []
    },
    {
      "cell_type": "markdown",
      "source": [
        "##Questão 3\n",
        "\n",
        "Finalmente chegamos ao último exercício dessa sequência relacionada à manipulação de arquivos.\n",
        "Neste exercício você deve criar um novo arquivo chamado `alunos_media.csv`. Esse novo arquivo é uma cópia de `alunos.csv` porém com uma coluna a mais chamada `Média` que vai abrigar os valores das \n",
        "médias das provas de cada aluno da lista.\n",
        "\n",
        "\n",
        "Se você utilizou a biblioteca CSV para realizar os dois primeiros exercícios, muito será reaproveitado aqui. A biblioteca CSV permite a interpretação de \n",
        "cada linha como listas, que são fáceis de manipular."
      ],
      "metadata": {
        "id": "8PNYldI2vtlc"
      }
    },
    {
      "cell_type": "code",
      "source": [
        "def get_grades(file_list: list) -> list:\n",
        "  grades_list = []\n",
        "  PROVA1 = 2\n",
        "  PROVA2 = PROVA1 + 1\n",
        "  PROVA3 = PROVA1 + 2\n",
        "  PROVA4 = PROVA1 + 3\n",
        "  for line in file_list:\n",
        "    grades_list.append( line[PROVA1:PROVA4+1] )\n",
        "  grades_list.pop(0) #remove header\n",
        "  return grades_list\n",
        "\n",
        "\n",
        "def calculate_average_column(list_grade: list) -> list:\n",
        "  average_grade = []\n",
        "  for line in list_grade:\n",
        "    average_grade.append( sum( [float(i) for i in line] )/len(line) )\n",
        "  return average_grade\n",
        "\n",
        "def insert_column(file_list: list, data_list: list, colunm_name: str) -> list:\n",
        "  new_file_list = []\n",
        "  for iter in range( len(file_list) ):\n",
        "    line = file_list[iter].copy()\n",
        "    if iter == 0:\n",
        "      line.append(colunm_name)\n",
        "      new_file_list.append(line)\n",
        "    else:\n",
        "      line.append(data_list[iter-1])\n",
        "      new_file_list.append(line)\n",
        "  return new_file_list\n",
        "\n",
        "def save_file_with_average(old_file_name, new_file_name):\n",
        "  old_file_list = get_list_from_csv(old_file_name)\n",
        "  grades        = get_grades(old_file_list)\n",
        "  average       = calculate_average_column(grades)\n",
        "  new_file_list = insert_column(old_file_list, average, 'Média')\n",
        "\n",
        "  write_list_in_file(new_file_name, new_file_list)\n"
      ],
      "metadata": {
        "id": "j-Wj8NPo0Y9e"
      },
      "execution_count": 113,
      "outputs": []
    },
    {
      "cell_type": "code",
      "source": [
        "old_file_name = 'alunos.csv'\n",
        "new_file_name = 'alunos_media.csv'\n",
        "\n",
        "save_file_with_average(old_file_name, new_file_name)"
      ],
      "metadata": {
        "id": "neHUjXVHv8AY"
      },
      "execution_count": 114,
      "outputs": []
    },
    {
      "cell_type": "markdown",
      "source": [
        "##Questão 4\n",
        "\n",
        "Você conhece Star Wars? Se trata, obviamente, da famosa saga espacial criada por George Lucas em 1977 e que deu origem a símbolos do cinema e da cultura pop com o imponente vilão Darth Vader ou o simpático robô R2-D2. \n",
        "\n",
        "A ideia desse exercício é justamente extrair informações do personagem Darth Vader através de uma API de Star Wars chamada SWAPI.\n",
        "\n",
        "\n",
        "Utilize a URL \"https://swapi.dev/api/people/4/\" para fazer a requisição dos dados de Darth Vader e extraia as informações \"name\" (nome), \"height\" (altura), \"mass\" (massa) e \"birth_year\" (ano de nascimento) e imprima cada dado em uma linha.\n",
        "\n",
        "*Dica: caso não se lembre de como fazer isso, assista novamente a aula sobre \n",
        "API porque o exemplo da aula pode te ajudar.*"
      ],
      "metadata": {
        "id": "mV4m165VfKm_"
      }
    },
    {
      "cell_type": "code",
      "source": [
        "!pip install requests"
      ],
      "metadata": {
        "id": "aoHG0AtpfPtd"
      },
      "execution_count": null,
      "outputs": []
    },
    {
      "cell_type": "code",
      "source": [
        "import requests as r"
      ],
      "metadata": {
        "id": "JYDx1sNUgFB7"
      },
      "execution_count": 2,
      "outputs": []
    },
    {
      "cell_type": "code",
      "source": [
        "def get_url_dict( url: str) -> dict:\n",
        "  answer = r.get(url)\n",
        "  if answer.status_code == 200:\n",
        "    print('No error!')\n",
        "    return answer.json()\n",
        "  else: \n",
        "    print('answer.status_code')\n",
        "    return {}\n",
        "\n",
        "url = 'https://swapi.dev/api/people/4/'\n",
        "raw_data = get_url_dict( url )\n",
        "print(raw_data)"
      ],
      "metadata": {
        "colab": {
          "base_uri": "https://localhost:8080/"
        },
        "id": "_dqhZ7qtgGBY",
        "outputId": "89cdd721-bb1a-4173-8845-2a5fe3b7283f"
      },
      "execution_count": 7,
      "outputs": [
        {
          "output_type": "stream",
          "name": "stdout",
          "text": [
            "No error!\n",
            "{'name': 'Darth Vader', 'height': '202', 'mass': '136', 'hair_color': 'none', 'skin_color': 'white', 'eye_color': 'yellow', 'birth_year': '41.9BBY', 'gender': 'male', 'homeworld': 'https://swapi.dev/api/planets/1/', 'films': ['https://swapi.dev/api/films/1/', 'https://swapi.dev/api/films/2/', 'https://swapi.dev/api/films/3/', 'https://swapi.dev/api/films/6/'], 'species': [], 'vehicles': [], 'starships': ['https://swapi.dev/api/starships/13/'], 'created': '2014-12-10T15:18:20.704000Z', 'edited': '2014-12-20T21:17:50.313000Z', 'url': 'https://swapi.dev/api/people/4/'}\n"
          ]
        }
      ]
    },
    {
      "cell_type": "code",
      "source": [
        "def get_data( data_name: list) -> dict:\n",
        "  asw = {}\n",
        "  for iter in range( len(data_name) ):\n",
        "    asw[ data_name[iter] ] = raw_data[ data_name[iter] ]\n",
        "  return asw"
      ],
      "metadata": {
        "id": "pGOOuuK4gxaR"
      },
      "execution_count": 10,
      "outputs": []
    },
    {
      "cell_type": "code",
      "source": [
        "data_name = [\"name\", \"height\", \"mass\", \"birth_year\"]\n",
        "my_data = get_data(data_name)\n",
        "\n",
        "import json\n",
        "print(json.dumps(my_data, indent = 3))"
      ],
      "metadata": {
        "id": "pBnUqW_3jE7W"
      },
      "execution_count": null,
      "outputs": []
    },
    {
      "cell_type": "markdown",
      "source": [
        "##Questão 5\n",
        "\n",
        "Em 2019 surgiram os primeiros casos de COVID-19 que se alastrou pelo mundo resultando numa pandemia. A proposta deste exercício é utilizar uma API com informações de COVID-19 do mundo todo desde o início da proliferação e descobrir que dia o Brasil conﬁrmou o primeiro caso de Coronavírus.\n",
        "\n",
        "\n",
        "Para fazer isso, utilize a URL \"https://api.covid19api.com/dayone/country/brazil\" em seu código. Ela retorna uma lista de dicionários, em que cada dicionário traz \n",
        "informações através das chaves:\n",
        "\n",
        "\"ID\", \"Country\", \"CountryCode\", \"Province\", \"City\", \n",
        "\"CityCode\",\"Lat\",\"Lon\",\"Conﬁrmed\",\"Deaths\", \"Recovered\", \"Active\" e \"Date\".\n",
        "\n",
        "\n",
        "Utilize essas informações e retorne a data em que o Brasil conﬁrmou o primeiro caso de COVID."
      ],
      "metadata": {
        "id": "nZN4k28WjWTC"
      }
    },
    {
      "cell_type": "code",
      "source": [
        "!pip install requests"
      ],
      "metadata": {
        "colab": {
          "base_uri": "https://localhost:8080/"
        },
        "id": "tE1sogDsjUw2",
        "outputId": "7ad1e86d-49ec-44ca-dc13-52ec3aac7990"
      },
      "execution_count": 45,
      "outputs": [
        {
          "output_type": "stream",
          "name": "stdout",
          "text": [
            "Looking in indexes: https://pypi.org/simple, https://us-python.pkg.dev/colab-wheels/public/simple/\n",
            "Requirement already satisfied: requests in /usr/local/lib/python3.7/dist-packages (2.23.0)\n",
            "Requirement already satisfied: chardet<4,>=3.0.2 in /usr/local/lib/python3.7/dist-packages (from requests) (3.0.4)\n",
            "Requirement already satisfied: urllib3!=1.25.0,!=1.25.1,<1.26,>=1.21.1 in /usr/local/lib/python3.7/dist-packages (from requests) (1.24.3)\n",
            "Requirement already satisfied: idna<3,>=2.5 in /usr/local/lib/python3.7/dist-packages (from requests) (2.10)\n",
            "Requirement already satisfied: certifi>=2017.4.17 in /usr/local/lib/python3.7/dist-packages (from requests) (2022.6.15)\n"
          ]
        }
      ]
    },
    {
      "cell_type": "code",
      "source": [
        "import requests as r\n",
        "import datetime as dt"
      ],
      "metadata": {
        "id": "EvnQiDqYkAMo"
      },
      "execution_count": 46,
      "outputs": []
    },
    {
      "cell_type": "code",
      "source": [
        "def get_url_dict( url: str) -> dict:\n",
        "  answer = r.get(url)\n",
        "  if answer.status_code == 200:\n",
        "    print('No error!')\n",
        "    return answer.json()\n",
        "  else: \n",
        "    print('answer.status_code')\n",
        "    return {}\n",
        "\n",
        "def dict_to_list(name_key: str, data_dict: dict) -> list:\n",
        "  lst = []\n",
        "  for ele in data_dict:\n",
        "    lst.append( ele[name_key] )\n",
        "  return lst\n",
        "\n",
        "def get_date_str(lst_date: list) -> list:\n",
        "  return [ele[:10] for ele in lst_date]\n",
        "\n",
        "def find_date(num_cases: int, lst_generic, lst_date) -> str:\n",
        "  error = 0\n",
        "  try:\n",
        "    idx = lst_generic.index(num_cases)\n",
        "  except ValueError as v:\n",
        "    error = -1\n",
        "    #print(v)\n",
        "  if error == 0:\n",
        "    return lst_date[idx]\n",
        "  else:\n",
        "    return error"
      ],
      "metadata": {
        "id": "_CzeJcISkAl2"
      },
      "execution_count": 90,
      "outputs": []
    },
    {
      "cell_type": "code",
      "source": [
        "CONFIRMADOS = 0\n",
        "OBITOS      = 1\n",
        "RECUPERADOS = 2\n",
        "ATIVOS      = 3\n",
        "DATA        = 4\n",
        "\n",
        "url = 'https://api.covid19api.com/country/brazil'\n",
        "raw_data = get_url_dict( url )"
      ],
      "metadata": {
        "colab": {
          "base_uri": "https://localhost:8080/"
        },
        "id": "PWO__BNmkNE2",
        "outputId": "fbd86cb4-7d4e-498a-e041-35201a5781d4"
      },
      "execution_count": 48,
      "outputs": [
        {
          "output_type": "stream",
          "name": "stdout",
          "text": [
            "No error!\n"
          ]
        }
      ]
    },
    {
      "cell_type": "code",
      "source": [
        "lst_confirmed = dict_to_list('Confirmed', raw_data)\n",
        "lst_date      = get_date_str(dict_to_list('Date', raw_data))\n",
        "\n",
        "num_casos_busca = int(input('Quantos casos você quer pesquisar? \\n'))\n",
        "first_time      = find_date(num_casos_busca, lst_confirmed, lst_date)\n",
        "\n",
        "if first_time != -1:\n",
        "  print('O(s) caso(s) {x} foram confirmados pela primeira vez em {date}.'.format(\n",
        "      x=num_casos_busca,\n",
        "      date=first_time\n",
        "  ) )\n",
        "else:\n",
        "  print(f'Nunca se teve {num_casos_busca} confirmdos!')"
      ],
      "metadata": {
        "colab": {
          "base_uri": "https://localhost:8080/"
        },
        "id": "FvRT9Dr2lpt2",
        "outputId": "12a4e701-3a14-4632-99d6-300591935d3c"
      },
      "execution_count": 92,
      "outputs": [
        {
          "output_type": "stream",
          "name": "stdout",
          "text": [
            "Quantos casos você quer pesquisar? \n",
            "20\n",
            "O(s) caso(s) 20 foram confirmados pela primeira vez em 2020-03-08.\n"
          ]
        }
      ]
    },
    {
      "cell_type": "code",
      "source": [],
      "metadata": {
        "id": "_7xA8rInvEbq"
      },
      "execution_count": null,
      "outputs": []
    }
  ]
}