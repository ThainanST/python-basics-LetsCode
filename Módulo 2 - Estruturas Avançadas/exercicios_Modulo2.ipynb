{
  "nbformat": 4,
  "nbformat_minor": 0,
  "metadata": {
    "colab": {
      "provenance": [],
      "collapsed_sections": []
    },
    "kernelspec": {
      "name": "python3",
      "display_name": "Python 3"
    },
    "language_info": {
      "name": "python"
    }
  },
  "cells": [
    {
      "cell_type": "markdown",
      "source": [
        "# Módulo 2 - Python"
      ],
      "metadata": {
        "id": "2ITYKgOnJw8a"
      }
    },
    {
      "cell_type": "markdown",
      "source": [
        "##Questao 1\n",
        "\n",
        "Faça um programa que olhe todos os itens de uma lista e diga quantos deles \n",
        "são pares."
      ],
      "metadata": {
        "id": "ilbgA55hJ0hn"
      }
    },
    {
      "cell_type": "code",
      "execution_count": null,
      "metadata": {
        "colab": {
          "base_uri": "https://localhost:8080/"
        },
        "id": "50GGhrD2JnxN",
        "outputId": "d2dffc8f-b165-46e2-9630-a16447c3072f"
      },
      "outputs": [
        {
          "output_type": "stream",
          "name": "stdout",
          "text": [
            "Ok! 2 elementos da lista sao pares.\n"
          ]
        }
      ],
      "source": [
        "def print_sum_even(numbers):\n",
        "  is_even = [1 if element % 2 == 0 else 0 for element in numbers]\n",
        "  print(\"Ok! {num_even} elementos da lista sao pares.\".format(num_even=sum(is_even)) )\n",
        "\n",
        "numbers = [1, 3, 5, 8, 9, 16, 17]\n",
        "print_sum_even(numbers)"
      ]
    },
    {
      "cell_type": "markdown",
      "source": [
        "## Questao 2\n",
        "\n",
        "Faça um programa que peça para o usuário digitar uma palavra e imprima \n",
        "cada letra em uma linha."
      ],
      "metadata": {
        "id": "0-5bdX0-V541"
      }
    },
    {
      "cell_type": "code",
      "source": [
        "def print_all_letters():\n",
        "  word = input(\"Digite uma palavra: \")\n",
        "  for e in word:\n",
        "    print( e.upper() )\n",
        "\n",
        "print_all_letters()"
      ],
      "metadata": {
        "colab": {
          "base_uri": "https://localhost:8080/"
        },
        "id": "_1RsCcw6WHFC",
        "outputId": "867735b5-b62f-4157-c51b-15e014d88afb"
      },
      "execution_count": null,
      "outputs": [
        {
          "output_type": "stream",
          "name": "stdout",
          "text": [
            "Digite uma palavra: lklklk\n",
            "L\n",
            "K\n",
            "L\n",
            "K\n",
            "L\n",
            "K\n"
          ]
        }
      ]
    },
    {
      "cell_type": "markdown",
      "source": [
        "# Questao 3\n",
        "\n",
        "Faça uma função que recebe duas listas e retorna a soma item a item dessas \n",
        "listas.\n",
        "\n",
        "Exemplo: Se a função receber as listas [1,4,3] e [3,5,1], então a função deve retornar [1+3, 4+5, 3+1] = [4, 9, 4]."
      ],
      "metadata": {
        "id": "Crgyl2KIX_Yj"
      }
    },
    {
      "cell_type": "code",
      "source": [
        "def sum_lists(list1, list2):\n",
        "  list3 = []\n",
        "  for i in range( len(list1) ):\n",
        "    list3.append( list1[i] + list2[i] )\n",
        "  return list3\n",
        "\n",
        "list1 = [1,4,3]\n",
        "list2 = [3,5,1]\n",
        "print(\"A soma das listas eh: \")\n",
        "print( sum_lists(list1, list2) )"
      ],
      "metadata": {
        "colab": {
          "base_uri": "https://localhost:8080/"
        },
        "id": "asTnBDYdYENu",
        "outputId": "10955ddc-7c98-4fff-9c0b-ea29c2e3e736"
      },
      "execution_count": null,
      "outputs": [
        {
          "output_type": "stream",
          "name": "stdout",
          "text": [
            "A soma das listas eh: \n",
            "[4, 9, 4]\n"
          ]
        }
      ]
    },
    {
      "cell_type": "markdown",
      "source": [
        "#Questao 4\n",
        "\n",
        "Crie um dicionário cujas chaves são os meses do ano e os valores são a \n",
        "duração (em dias) de cada mês."
      ],
      "metadata": {
        "id": "7yyEBbj3bmKb"
      }
    },
    {
      "cell_type": "code",
      "source": [
        "import calendar\n",
        "\n",
        "month_name = list(calendar.month_name)\n",
        "mdays      = list(calendar.mdays)\n",
        "\n",
        "year = {}\n",
        "for n in range(len(month_name)):\n",
        "  if month_name[n] != \"\":\n",
        "    year[month_name[n]]= int(mdays[n])\n",
        "\n",
        "print(year)"
      ],
      "metadata": {
        "id": "pxRYEl3Zbqxn",
        "colab": {
          "base_uri": "https://localhost:8080/"
        },
        "outputId": "f0080329-8a09-4856-b1b1-fc7a514d1130"
      },
      "execution_count": null,
      "outputs": [
        {
          "output_type": "stream",
          "name": "stdout",
          "text": [
            "{'January': 31, 'February': 28, 'March': 31, 'April': 30, 'May': 31, 'June': 30, 'July': 31, 'August': 31, 'September': 30, 'October': 31, 'November': 30, 'December': 31}\n"
          ]
        }
      ]
    },
    {
      "cell_type": "markdown",
      "source": [
        "## Questao 5\n",
        "\n",
        "Imprima as chaves seguidas dos seus valores para dicionário criado no  exercício anterior.\n",
        "Exemplo:\n",
        "- Janeiro - 31\n",
        "- Fevereiro - 28\n",
        "- Março - 31\n",
        "- Etc..."
      ],
      "metadata": {
        "id": "bRM1qaF5u5kx"
      }
    },
    {
      "cell_type": "code",
      "source": [
        "for month, days in year.items():\n",
        "    print('{} - {}'.format(month, days))"
      ],
      "metadata": {
        "colab": {
          "base_uri": "https://localhost:8080/"
        },
        "id": "KebAvdJOrBzJ",
        "outputId": "1c66834e-7e12-463e-91d2-c5a8671b8c67"
      },
      "execution_count": null,
      "outputs": [
        {
          "output_type": "stream",
          "name": "stdout",
          "text": [
            "January - 31\n",
            "February - 28\n",
            "March - 31\n",
            "April - 30\n",
            "May - 31\n",
            "June - 30\n",
            "July - 31\n",
            "August - 31\n",
            "September - 30\n",
            "October - 31\n",
            "November - 30\n",
            "December - 31\n"
          ]
        }
      ]
    },
    {
      "cell_type": "code",
      "source": [
        "print( year.items() )"
      ],
      "metadata": {
        "colab": {
          "base_uri": "https://localhost:8080/"
        },
        "id": "gWvhWn5tv--5",
        "outputId": "01fce874-1e53-4096-8502-ffdb3d224119"
      },
      "execution_count": null,
      "outputs": [
        {
          "output_type": "stream",
          "name": "stdout",
          "text": [
            "dict_items([('January', 31), ('February', 28), ('March', 31), ('April', 30), ('May', 31), ('June', 30), ('July', 31), ('August', 31), ('September', 30), ('October', 31), ('November', 30), ('December', 31)])\n"
          ]
        }
      ]
    }
  ]
}